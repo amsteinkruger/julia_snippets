{
 "cells": [
  {
   "cell_type": "markdown",
   "metadata": {},
   "source": [
    "This document compiles code used in free courses at https://juliaacademy.com/."
   ]
  },
  {
   "cell_type": "markdown",
   "metadata": {},
   "source": [
    "# 0, 1"
   ]
  },
  {
   "cell_type": "code",
   "execution_count": null,
   "metadata": {},
   "outputs": [],
   "source": [
    "println(\"I'm learning Julia!\")\n",
    "\n",
    "my_answer = 42\n",
    "typeof(my_answer)\n",
    "\n",
    "my_pi = 3.14159\n",
    "typeof(my_pi)\n",
    "\n",
    "😺 = \"smiley cat!\"\n",
    "typeof(😺)\n",
    "\n",
    "😺 = 1\n",
    "typeof(😺)\n",
    "\n",
    "😀 = 0\n",
    "😞 = -1\n",
    "\n",
    "😺 + 😞 == 😀\n",
    "\n",
    "# You can leave comments on a single line using the pound/hash key\n",
    "\n",
    "#=\n",
    "\n",
    "For multi-line comments, \n",
    "use the '#= =#' sequence.\n",
    "\n",
    "=#\n",
    "\n",
    "#=\n",
    "\n",
    "This is another example.\n",
    "\n",
    "=#\n",
    "\n",
    "sum = 3 + 7\n",
    "difference = 10 - 3\n",
    "product = 20 * 5\n",
    "quotient = 100 / 10\n",
    "power = 10 ^ 2\n",
    "modulus = 101 % 2\n",
    "\n",
    "days = 365\n",
    "days_float = convert(Float16, days)\n",
    "typeof(days_float)\n",
    "\n",
    "@assert days == 365\n",
    "@assert days_float == 365.0\n",
    "\n",
    "s1 = \"I am a string.\"\n",
    "s2 = \"\"\"I am also a string.\"\"\"\n",
    "\n",
    "# \"Here, we get an \"error\" because it's ambiguous where this string ends\"\n",
    "\n",
    "\"\"\"Look, Mom, no \"errors\"!!! \"\"\"\n",
    "\n",
    "# Note that ' ' define a character, but NOT a string!\n",
    "typeof('a')\n",
    "\n",
    "name = \"Jane\"\n",
    "num_fingers = 10\n",
    "num_toes = 10\n",
    "println(\"Hello, my name is $name.\")\n",
    "println(\"I have $num_fingers fingers and $num_toes toes.\")\n",
    "println(\"That is $(num_fingers + num_toes) digits in all!!\")\n",
    "\n",
    "s3 = \"How many cats \";\n",
    "s4 = \"is too many cats?\";\n",
    "😺 = 10\n",
    "\n",
    "string(s3, s4)\n",
    "string(\"I don't know, but \", 😺, \" is too few.\")\n",
    "s3*s4\n",
    "\n",
    "repeat(\"hi\", 3) == \"hi\"^3\n",
    "hi = repeat(\"hi\", 3)\n",
    "@assert hi == \"hihihi\"\n",
    "\n",
    "a = 3\n",
    "b = 4\n",
    "c = string(a, \" + \", b)\n",
    "d = string(a + b)\n",
    "@assert c == \"3 + 4\"\n",
    "@assert d == \"7\""
   ]
  },
  {
   "cell_type": "markdown",
   "metadata": {},
   "source": [
    "# 2"
   ]
  },
  {
   "cell_type": "code",
   "execution_count": null,
   "metadata": {
    "vscode": {
     "languageId": "julia"
    }
   },
   "outputs": [],
   "source": [
    "myfavoriteanimals = (\"penguins\", \"cats\", \"sugargliders\") # is a tuple\n",
    "myfavoriteanimals[1]\n",
    "# since tuples are immutable, we can't update it"
   ]
  }
 ],
 "metadata": {
  "kernelspec": {
   "display_name": "Python 3 (ipykernel)",
   "language": "python",
   "name": "python3"
  },
  "language_info": {
   "codemirror_mode": {
    "name": "ipython",
    "version": 3
   },
   "file_extension": ".py",
   "mimetype": "text/x-python",
   "name": "python",
   "nbconvert_exporter": "python",
   "pygments_lexer": "ipython3",
   "version": "3.13.1"
  }
 },
 "nbformat": 4,
 "nbformat_minor": 4
}
